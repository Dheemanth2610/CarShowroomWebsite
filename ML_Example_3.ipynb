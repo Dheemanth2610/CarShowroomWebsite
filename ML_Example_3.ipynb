{
  "nbformat": 4,
  "nbformat_minor": 0,
  "metadata": {
    "colab": {
      "provenance": [],
      "mount_file_id": "1KIY9pObuHR4Iz8AXKrZd8XJVOK-urYZ0",
      "authorship_tag": "ABX9TyOJfwM73aqGePe28+bReSSf",
      "include_colab_link": true
    },
    "kernelspec": {
      "name": "python3",
      "display_name": "Python 3"
    },
    "language_info": {
      "name": "python"
    }
  },
  "cells": [
    {
      "cell_type": "markdown",
      "metadata": {
        "id": "view-in-github",
        "colab_type": "text"
      },
      "source": [
        "<a href=\"https://colab.research.google.com/github/Dheemanth2610/CarShowroomWebsite/blob/main/ML_Example_3.ipynb\" target=\"_parent\"><img src=\"https://colab.research.google.com/assets/colab-badge.svg\" alt=\"Open In Colab\"/></a>"
      ]
    },
    {
      "cell_type": "code",
      "execution_count": null,
      "metadata": {
        "id": "HU6JDpiucdEY"
      },
      "outputs": [],
      "source": [
        "import pandas as pd"
      ]
    },
    {
      "cell_type": "code",
      "source": [
        "import io"
      ],
      "metadata": {
        "id": "zQerNv7XwZy1"
      },
      "execution_count": null,
      "outputs": []
    },
    {
      "cell_type": "code",
      "source": [
        "import pydotplus"
      ],
      "metadata": {
        "id": "sG9eH49t1wlB"
      },
      "execution_count": null,
      "outputs": []
    },
    {
      "cell_type": "code",
      "source": [
        "from sklearn.impute import SimpleImputer#used for imputation(handling missing data)"
      ],
      "metadata": {
        "id": "eEQNvgyactHC"
      },
      "execution_count": null,
      "outputs": []
    },
    {
      "cell_type": "code",
      "source": [
        "from sklearn import tree"
      ],
      "metadata": {
        "id": "xFkA0T6wcwN-"
      },
      "execution_count": null,
      "outputs": []
    },
    {
      "cell_type": "code",
      "source": [
        "from sklearn import model_selection#when multiple models are there, to check the feature importance"
      ],
      "metadata": {
        "id": "64rkJnybdVXv"
      },
      "execution_count": null,
      "outputs": []
    },
    {
      "cell_type": "code",
      "source": [
        "Train=pd.read_csv('train.csv')"
      ],
      "metadata": {
        "id": "9Cn3W_8ddbju"
      },
      "execution_count": null,
      "outputs": []
    },
    {
      "cell_type": "code",
      "source": [
        "Train.shape"
      ],
      "metadata": {
        "colab": {
          "base_uri": "https://localhost:8080/"
        },
        "id": "cEV5oP1PeADj",
        "outputId": "ee52654f-28e6-4ce8-d527-4f11c2a863e9"
      },
      "execution_count": null,
      "outputs": [
        {
          "output_type": "execute_result",
          "data": {
            "text/plain": [
              "(891, 12)"
            ]
          },
          "metadata": {},
          "execution_count": 20
        }
      ]
    },
    {
      "cell_type": "code",
      "source": [
        "Train.info()"
      ],
      "metadata": {
        "colab": {
          "base_uri": "https://localhost:8080/"
        },
        "id": "U4vHCQ_keEWn",
        "outputId": "a147d9f8-dca1-4a6c-9a5b-d175d42d2824"
      },
      "execution_count": null,
      "outputs": [
        {
          "output_type": "stream",
          "name": "stdout",
          "text": [
            "<class 'pandas.core.frame.DataFrame'>\n",
            "RangeIndex: 891 entries, 0 to 890\n",
            "Data columns (total 12 columns):\n",
            " #   Column       Non-Null Count  Dtype  \n",
            "---  ------       --------------  -----  \n",
            " 0   PassengerId  891 non-null    int64  \n",
            " 1   Survived     891 non-null    int64  \n",
            " 2   Pclass       891 non-null    int64  \n",
            " 3   Name         891 non-null    object \n",
            " 4   Sex          891 non-null    object \n",
            " 5   Age          714 non-null    float64\n",
            " 6   SibSp        891 non-null    int64  \n",
            " 7   Parch        891 non-null    int64  \n",
            " 8   Ticket       891 non-null    object \n",
            " 9   Fare         891 non-null    float64\n",
            " 10  Cabin        204 non-null    object \n",
            " 11  Embarked     889 non-null    object \n",
            "dtypes: float64(2), int64(5), object(5)\n",
            "memory usage: 83.7+ KB\n"
          ]
        }
      ]
    },
    {
      "cell_type": "code",
      "source": [
        "Test=pd.read_csv('test.csv')"
      ],
      "metadata": {
        "id": "-n4wwhv9eFS-"
      },
      "execution_count": null,
      "outputs": []
    },
    {
      "cell_type": "code",
      "source": [
        "Test.shape"
      ],
      "metadata": {
        "colab": {
          "base_uri": "https://localhost:8080/"
        },
        "id": "k3aj1e1DeJPl",
        "outputId": "ee898237-45b2-492f-ab37-5b6625445409"
      },
      "execution_count": null,
      "outputs": [
        {
          "output_type": "execute_result",
          "data": {
            "text/plain": [
              "(418, 11)"
            ]
          },
          "metadata": {},
          "execution_count": 23
        }
      ]
    },
    {
      "cell_type": "code",
      "source": [
        "Test.info()"
      ],
      "metadata": {
        "colab": {
          "base_uri": "https://localhost:8080/"
        },
        "id": "q9G1W7CaeKjX",
        "outputId": "b8486d8d-588c-4cf4-bcad-0c6f797a9566"
      },
      "execution_count": null,
      "outputs": [
        {
          "output_type": "stream",
          "name": "stdout",
          "text": [
            "<class 'pandas.core.frame.DataFrame'>\n",
            "RangeIndex: 418 entries, 0 to 417\n",
            "Data columns (total 11 columns):\n",
            " #   Column       Non-Null Count  Dtype  \n",
            "---  ------       --------------  -----  \n",
            " 0   PassengerId  418 non-null    int64  \n",
            " 1   Pclass       418 non-null    int64  \n",
            " 2   Name         418 non-null    object \n",
            " 3   Sex          418 non-null    object \n",
            " 4   Age          332 non-null    float64\n",
            " 5   SibSp        418 non-null    int64  \n",
            " 6   Parch        418 non-null    int64  \n",
            " 7   Ticket       418 non-null    object \n",
            " 8   Fare         417 non-null    float64\n",
            " 9   Cabin        91 non-null     object \n",
            " 10  Embarked     418 non-null    object \n",
            "dtypes: float64(2), int64(4), object(5)\n",
            "memory usage: 36.0+ KB\n"
          ]
        }
      ]
    },
    {
      "cell_type": "code",
      "source": [
        "Test.Survived= None"
      ],
      "metadata": {
        "id": "nWR4hNr9eLiu"
      },
      "execution_count": null,
      "outputs": []
    },
    {
      "cell_type": "code",
      "source": [
        "Titanic=pd.concat([Train,Test])#used to combine two or more datasets."
      ],
      "metadata": {
        "id": "j2zNKBknebhU"
      },
      "execution_count": null,
      "outputs": []
    },
    {
      "cell_type": "code",
      "source": [
        "Titanic.shape"
      ],
      "metadata": {
        "colab": {
          "base_uri": "https://localhost:8080/"
        },
        "id": "Nmau44hbegyq",
        "outputId": "4068ed9b-5f44-4cda-d785-826e90e067b5"
      },
      "execution_count": null,
      "outputs": [
        {
          "output_type": "execute_result",
          "data": {
            "text/plain": [
              "(1309, 12)"
            ]
          },
          "metadata": {},
          "execution_count": 27
        }
      ]
    },
    {
      "cell_type": "code",
      "source": [
        "Titanic.info()\n",
        "Titanic.head()"
      ],
      "metadata": {
        "colab": {
          "base_uri": "https://localhost:8080/",
          "height": 892
        },
        "id": "i9QSyODJeof5",
        "outputId": "59f4d779-901d-431c-a511-d84471e78f35"
      },
      "execution_count": null,
      "outputs": [
        {
          "output_type": "stream",
          "name": "stdout",
          "text": [
            "<class 'pandas.core.frame.DataFrame'>\n",
            "Int64Index: 1309 entries, 0 to 417\n",
            "Data columns (total 12 columns):\n",
            " #   Column       Non-Null Count  Dtype  \n",
            "---  ------       --------------  -----  \n",
            " 0   PassengerId  1309 non-null   int64  \n",
            " 1   Survived     891 non-null    float64\n",
            " 2   Pclass       1309 non-null   int64  \n",
            " 3   Name         1309 non-null   object \n",
            " 4   Sex          1309 non-null   object \n",
            " 5   Age          1046 non-null   float64\n",
            " 6   SibSp        1309 non-null   int64  \n",
            " 7   Parch        1309 non-null   int64  \n",
            " 8   Ticket       1309 non-null   object \n",
            " 9   Fare         1308 non-null   float64\n",
            " 10  Cabin        295 non-null    object \n",
            " 11  Embarked     1307 non-null   object \n",
            "dtypes: float64(3), int64(4), object(5)\n",
            "memory usage: 132.9+ KB\n"
          ]
        },
        {
          "output_type": "execute_result",
          "data": {
            "text/plain": [
              "   PassengerId  Survived  Pclass  \\\n",
              "0            1       0.0       3   \n",
              "1            2       1.0       1   \n",
              "2            3       1.0       3   \n",
              "3            4       1.0       1   \n",
              "4            5       0.0       3   \n",
              "\n",
              "                                                Name     Sex   Age  SibSp  \\\n",
              "0                            Braund, Mr. Owen Harris    male  22.0      1   \n",
              "1  Cumings, Mrs. John Bradley (Florence Briggs Th...  female  38.0      1   \n",
              "2                             Heikkinen, Miss. Laina  female  26.0      0   \n",
              "3       Futrelle, Mrs. Jacques Heath (Lily May Peel)  female  35.0      1   \n",
              "4                           Allen, Mr. William Henry    male  35.0      0   \n",
              "\n",
              "   Parch            Ticket     Fare Cabin Embarked  \n",
              "0      0         A/5 21171   7.2500   NaN        S  \n",
              "1      0          PC 17599  71.2833   C85        C  \n",
              "2      0  STON/O2. 3101282   7.9250   NaN        S  \n",
              "3      0            113803  53.1000  C123        S  \n",
              "4      0            373450   8.0500   NaN        S  "
            ],
            "text/html": [
              "\n",
              "  <div id=\"df-aff76271-b44f-459c-88c2-ba06b2f52640\">\n",
              "    <div class=\"colab-df-container\">\n",
              "      <div>\n",
              "<style scoped>\n",
              "    .dataframe tbody tr th:only-of-type {\n",
              "        vertical-align: middle;\n",
              "    }\n",
              "\n",
              "    .dataframe tbody tr th {\n",
              "        vertical-align: top;\n",
              "    }\n",
              "\n",
              "    .dataframe thead th {\n",
              "        text-align: right;\n",
              "    }\n",
              "</style>\n",
              "<table border=\"1\" class=\"dataframe\">\n",
              "  <thead>\n",
              "    <tr style=\"text-align: right;\">\n",
              "      <th></th>\n",
              "      <th>PassengerId</th>\n",
              "      <th>Survived</th>\n",
              "      <th>Pclass</th>\n",
              "      <th>Name</th>\n",
              "      <th>Sex</th>\n",
              "      <th>Age</th>\n",
              "      <th>SibSp</th>\n",
              "      <th>Parch</th>\n",
              "      <th>Ticket</th>\n",
              "      <th>Fare</th>\n",
              "      <th>Cabin</th>\n",
              "      <th>Embarked</th>\n",
              "    </tr>\n",
              "  </thead>\n",
              "  <tbody>\n",
              "    <tr>\n",
              "      <th>0</th>\n",
              "      <td>1</td>\n",
              "      <td>0.0</td>\n",
              "      <td>3</td>\n",
              "      <td>Braund, Mr. Owen Harris</td>\n",
              "      <td>male</td>\n",
              "      <td>22.0</td>\n",
              "      <td>1</td>\n",
              "      <td>0</td>\n",
              "      <td>A/5 21171</td>\n",
              "      <td>7.2500</td>\n",
              "      <td>NaN</td>\n",
              "      <td>S</td>\n",
              "    </tr>\n",
              "    <tr>\n",
              "      <th>1</th>\n",
              "      <td>2</td>\n",
              "      <td>1.0</td>\n",
              "      <td>1</td>\n",
              "      <td>Cumings, Mrs. John Bradley (Florence Briggs Th...</td>\n",
              "      <td>female</td>\n",
              "      <td>38.0</td>\n",
              "      <td>1</td>\n",
              "      <td>0</td>\n",
              "      <td>PC 17599</td>\n",
              "      <td>71.2833</td>\n",
              "      <td>C85</td>\n",
              "      <td>C</td>\n",
              "    </tr>\n",
              "    <tr>\n",
              "      <th>2</th>\n",
              "      <td>3</td>\n",
              "      <td>1.0</td>\n",
              "      <td>3</td>\n",
              "      <td>Heikkinen, Miss. Laina</td>\n",
              "      <td>female</td>\n",
              "      <td>26.0</td>\n",
              "      <td>0</td>\n",
              "      <td>0</td>\n",
              "      <td>STON/O2. 3101282</td>\n",
              "      <td>7.9250</td>\n",
              "      <td>NaN</td>\n",
              "      <td>S</td>\n",
              "    </tr>\n",
              "    <tr>\n",
              "      <th>3</th>\n",
              "      <td>4</td>\n",
              "      <td>1.0</td>\n",
              "      <td>1</td>\n",
              "      <td>Futrelle, Mrs. Jacques Heath (Lily May Peel)</td>\n",
              "      <td>female</td>\n",
              "      <td>35.0</td>\n",
              "      <td>1</td>\n",
              "      <td>0</td>\n",
              "      <td>113803</td>\n",
              "      <td>53.1000</td>\n",
              "      <td>C123</td>\n",
              "      <td>S</td>\n",
              "    </tr>\n",
              "    <tr>\n",
              "      <th>4</th>\n",
              "      <td>5</td>\n",
              "      <td>0.0</td>\n",
              "      <td>3</td>\n",
              "      <td>Allen, Mr. William Henry</td>\n",
              "      <td>male</td>\n",
              "      <td>35.0</td>\n",
              "      <td>0</td>\n",
              "      <td>0</td>\n",
              "      <td>373450</td>\n",
              "      <td>8.0500</td>\n",
              "      <td>NaN</td>\n",
              "      <td>S</td>\n",
              "    </tr>\n",
              "  </tbody>\n",
              "</table>\n",
              "</div>\n",
              "      <button class=\"colab-df-convert\" onclick=\"convertToInteractive('df-aff76271-b44f-459c-88c2-ba06b2f52640')\"\n",
              "              title=\"Convert this dataframe to an interactive table.\"\n",
              "              style=\"display:none;\">\n",
              "        \n",
              "  <svg xmlns=\"http://www.w3.org/2000/svg\" height=\"24px\"viewBox=\"0 0 24 24\"\n",
              "       width=\"24px\">\n",
              "    <path d=\"M0 0h24v24H0V0z\" fill=\"none\"/>\n",
              "    <path d=\"M18.56 5.44l.94 2.06.94-2.06 2.06-.94-2.06-.94-.94-2.06-.94 2.06-2.06.94zm-11 1L8.5 8.5l.94-2.06 2.06-.94-2.06-.94L8.5 2.5l-.94 2.06-2.06.94zm10 10l.94 2.06.94-2.06 2.06-.94-2.06-.94-.94-2.06-.94 2.06-2.06.94z\"/><path d=\"M17.41 7.96l-1.37-1.37c-.4-.4-.92-.59-1.43-.59-.52 0-1.04.2-1.43.59L10.3 9.45l-7.72 7.72c-.78.78-.78 2.05 0 2.83L4 21.41c.39.39.9.59 1.41.59.51 0 1.02-.2 1.41-.59l7.78-7.78 2.81-2.81c.8-.78.8-2.07 0-2.86zM5.41 20L4 18.59l7.72-7.72 1.47 1.35L5.41 20z\"/>\n",
              "  </svg>\n",
              "      </button>\n",
              "      \n",
              "  <style>\n",
              "    .colab-df-container {\n",
              "      display:flex;\n",
              "      flex-wrap:wrap;\n",
              "      gap: 12px;\n",
              "    }\n",
              "\n",
              "    .colab-df-convert {\n",
              "      background-color: #E8F0FE;\n",
              "      border: none;\n",
              "      border-radius: 50%;\n",
              "      cursor: pointer;\n",
              "      display: none;\n",
              "      fill: #1967D2;\n",
              "      height: 32px;\n",
              "      padding: 0 0 0 0;\n",
              "      width: 32px;\n",
              "    }\n",
              "\n",
              "    .colab-df-convert:hover {\n",
              "      background-color: #E2EBFA;\n",
              "      box-shadow: 0px 1px 2px rgba(60, 64, 67, 0.3), 0px 1px 3px 1px rgba(60, 64, 67, 0.15);\n",
              "      fill: #174EA6;\n",
              "    }\n",
              "\n",
              "    [theme=dark] .colab-df-convert {\n",
              "      background-color: #3B4455;\n",
              "      fill: #D2E3FC;\n",
              "    }\n",
              "\n",
              "    [theme=dark] .colab-df-convert:hover {\n",
              "      background-color: #434B5C;\n",
              "      box-shadow: 0px 1px 3px 1px rgba(0, 0, 0, 0.15);\n",
              "      filter: drop-shadow(0px 1px 2px rgba(0, 0, 0, 0.3));\n",
              "      fill: #FFFFFF;\n",
              "    }\n",
              "  </style>\n",
              "\n",
              "      <script>\n",
              "        const buttonEl =\n",
              "          document.querySelector('#df-aff76271-b44f-459c-88c2-ba06b2f52640 button.colab-df-convert');\n",
              "        buttonEl.style.display =\n",
              "          google.colab.kernel.accessAllowed ? 'block' : 'none';\n",
              "\n",
              "        async function convertToInteractive(key) {\n",
              "          const element = document.querySelector('#df-aff76271-b44f-459c-88c2-ba06b2f52640');\n",
              "          const dataTable =\n",
              "            await google.colab.kernel.invokeFunction('convertToInteractive',\n",
              "                                                     [key], {});\n",
              "          if (!dataTable) return;\n",
              "\n",
              "          const docLinkHtml = 'Like what you see? Visit the ' +\n",
              "            '<a target=\"_blank\" href=https://colab.research.google.com/notebooks/data_table.ipynb>data table notebook</a>'\n",
              "            + ' to learn more about interactive tables.';\n",
              "          element.innerHTML = '';\n",
              "          dataTable['output_type'] = 'display_data';\n",
              "          await google.colab.output.renderOutput(dataTable, element);\n",
              "          const docLink = document.createElement('div');\n",
              "          docLink.innerHTML = docLinkHtml;\n",
              "          element.appendChild(docLink);\n",
              "        }\n",
              "      </script>\n",
              "    </div>\n",
              "  </div>\n",
              "  "
            ]
          },
          "metadata": {},
          "execution_count": 28
        }
      ]
    },
    {
      "cell_type": "code",
      "source": [
        "def title(name):\n",
        "  return name.split(',')[1].split('.')[0].strip()#it will extract the characters after , and before . in the title column"
      ],
      "metadata": {
        "id": "hvUSqJWzepjO"
      },
      "execution_count": null,
      "outputs": []
    },
    {
      "cell_type": "code",
      "source": [
        "Titanic['Title']=Titanic['Name'].map(title)# we are creating a column named title in which the title from the name column is extracted and placed in this column\n",
        "#map function is used as an alternative to for loop to make the work easier."
      ],
      "metadata": {
        "id": "5or6u9-PfOIq"
      },
      "execution_count": null,
      "outputs": []
    },
    {
      "cell_type": "markdown",
      "source": [
        "Alternate Code-\n",
        "for i=1 to 891\n",
        "Titanic['Name']= name.split(',')[1].split('.')[0].strip()"
      ],
      "metadata": {
        "id": "xUhL58C4gbrD"
      }
    },
    {
      "cell_type": "code",
      "source": [
        "mean=SimpleImputer()#by default parameter is mean."
      ],
      "metadata": {
        "id": "PXm1Tab2gDtK"
      },
      "execution_count": null,
      "outputs": []
    },
    {
      "cell_type": "code",
      "source": [
        "mean.fit(Train[['Age','Fare']])"
      ],
      "metadata": {
        "colab": {
          "base_uri": "https://localhost:8080/",
          "height": 74
        },
        "id": "N6bo_4JNhmGG",
        "outputId": "45bbcf06-a447-4cc5-c33c-7d3ea2776f87"
      },
      "execution_count": null,
      "outputs": [
        {
          "output_type": "execute_result",
          "data": {
            "text/plain": [
              "SimpleImputer()"
            ],
            "text/html": [
              "<style>#sk-container-id-1 {color: black;background-color: white;}#sk-container-id-1 pre{padding: 0;}#sk-container-id-1 div.sk-toggleable {background-color: white;}#sk-container-id-1 label.sk-toggleable__label {cursor: pointer;display: block;width: 100%;margin-bottom: 0;padding: 0.3em;box-sizing: border-box;text-align: center;}#sk-container-id-1 label.sk-toggleable__label-arrow:before {content: \"▸\";float: left;margin-right: 0.25em;color: #696969;}#sk-container-id-1 label.sk-toggleable__label-arrow:hover:before {color: black;}#sk-container-id-1 div.sk-estimator:hover label.sk-toggleable__label-arrow:before {color: black;}#sk-container-id-1 div.sk-toggleable__content {max-height: 0;max-width: 0;overflow: hidden;text-align: left;background-color: #f0f8ff;}#sk-container-id-1 div.sk-toggleable__content pre {margin: 0.2em;color: black;border-radius: 0.25em;background-color: #f0f8ff;}#sk-container-id-1 input.sk-toggleable__control:checked~div.sk-toggleable__content {max-height: 200px;max-width: 100%;overflow: auto;}#sk-container-id-1 input.sk-toggleable__control:checked~label.sk-toggleable__label-arrow:before {content: \"▾\";}#sk-container-id-1 div.sk-estimator input.sk-toggleable__control:checked~label.sk-toggleable__label {background-color: #d4ebff;}#sk-container-id-1 div.sk-label input.sk-toggleable__control:checked~label.sk-toggleable__label {background-color: #d4ebff;}#sk-container-id-1 input.sk-hidden--visually {border: 0;clip: rect(1px 1px 1px 1px);clip: rect(1px, 1px, 1px, 1px);height: 1px;margin: -1px;overflow: hidden;padding: 0;position: absolute;width: 1px;}#sk-container-id-1 div.sk-estimator {font-family: monospace;background-color: #f0f8ff;border: 1px dotted black;border-radius: 0.25em;box-sizing: border-box;margin-bottom: 0.5em;}#sk-container-id-1 div.sk-estimator:hover {background-color: #d4ebff;}#sk-container-id-1 div.sk-parallel-item::after {content: \"\";width: 100%;border-bottom: 1px solid gray;flex-grow: 1;}#sk-container-id-1 div.sk-label:hover label.sk-toggleable__label {background-color: #d4ebff;}#sk-container-id-1 div.sk-serial::before {content: \"\";position: absolute;border-left: 1px solid gray;box-sizing: border-box;top: 0;bottom: 0;left: 50%;z-index: 0;}#sk-container-id-1 div.sk-serial {display: flex;flex-direction: column;align-items: center;background-color: white;padding-right: 0.2em;padding-left: 0.2em;position: relative;}#sk-container-id-1 div.sk-item {position: relative;z-index: 1;}#sk-container-id-1 div.sk-parallel {display: flex;align-items: stretch;justify-content: center;background-color: white;position: relative;}#sk-container-id-1 div.sk-item::before, #sk-container-id-1 div.sk-parallel-item::before {content: \"\";position: absolute;border-left: 1px solid gray;box-sizing: border-box;top: 0;bottom: 0;left: 50%;z-index: -1;}#sk-container-id-1 div.sk-parallel-item {display: flex;flex-direction: column;z-index: 1;position: relative;background-color: white;}#sk-container-id-1 div.sk-parallel-item:first-child::after {align-self: flex-end;width: 50%;}#sk-container-id-1 div.sk-parallel-item:last-child::after {align-self: flex-start;width: 50%;}#sk-container-id-1 div.sk-parallel-item:only-child::after {width: 0;}#sk-container-id-1 div.sk-dashed-wrapped {border: 1px dashed gray;margin: 0 0.4em 0.5em 0.4em;box-sizing: border-box;padding-bottom: 0.4em;background-color: white;}#sk-container-id-1 div.sk-label label {font-family: monospace;font-weight: bold;display: inline-block;line-height: 1.2em;}#sk-container-id-1 div.sk-label-container {text-align: center;}#sk-container-id-1 div.sk-container {/* jupyter's `normalize.less` sets `[hidden] { display: none; }` but bootstrap.min.css set `[hidden] { display: none !important; }` so we also need the `!important` here to be able to override the default hidden behavior on the sphinx rendered scikit-learn.org. See: https://github.com/scikit-learn/scikit-learn/issues/21755 */display: inline-block !important;position: relative;}#sk-container-id-1 div.sk-text-repr-fallback {display: none;}</style><div id=\"sk-container-id-1\" class=\"sk-top-container\"><div class=\"sk-text-repr-fallback\"><pre>SimpleImputer()</pre><b>In a Jupyter environment, please rerun this cell to show the HTML representation or trust the notebook. <br />On GitHub, the HTML representation is unable to render, please try loading this page with nbviewer.org.</b></div><div class=\"sk-container\" hidden><div class=\"sk-item\"><div class=\"sk-estimator sk-toggleable\"><input class=\"sk-toggleable__control sk-hidden--visually\" id=\"sk-estimator-id-1\" type=\"checkbox\" checked><label for=\"sk-estimator-id-1\" class=\"sk-toggleable__label sk-toggleable__label-arrow\">SimpleImputer</label><div class=\"sk-toggleable__content\"><pre>SimpleImputer()</pre></div></div></div></div></div>"
            ]
          },
          "metadata": {},
          "execution_count": 32
        }
      ]
    },
    {
      "cell_type": "code",
      "source": [
        "Titanic[['Age',\"Fare\"]]= mean.transform(Titanic[['Age','Fare']])"
      ],
      "metadata": {
        "id": "zXlM-9hPhtw8"
      },
      "execution_count": null,
      "outputs": []
    },
    {
      "cell_type": "code",
      "source": [
        "def conv(age):\n",
        "  if(age >=0 and age <=1):\n",
        "    return 'Infant'\n",
        "  elif(age>1 and age<=12):\n",
        "    return 'Child'\n",
        "  elif(age>=13 and age<18):\n",
        "    return 'Teenager'\n",
        "  elif(age>=18 and age<30):\n",
        "    return 'Young Adults'\n",
        "  elif(age>=30 and age<40):\n",
        "    return 'Middle Adults'\n",
        "  elif(age>=40 and age<50):\n",
        "    return 'Late Adults'\n",
        "  elif(age>=50 and age<60):\n",
        "    return 'Pre Old Age'\n",
        "  else:\n",
        "    return 'Old'\n"
      ],
      "metadata": {
        "id": "C_j11yb5iXb0"
      },
      "execution_count": null,
      "outputs": []
    },
    {
      "cell_type": "code",
      "source": [
        "Titanic['Age_grp']=Titanic['Age'].map(conv)"
      ],
      "metadata": {
        "id": "qaMqaKuHjD1_"
      },
      "execution_count": null,
      "outputs": []
    },
    {
      "cell_type": "markdown",
      "source": [
        "Alternate Code-\n",
        "For i=1 to 1389\n",
        " TItanic['Age_grp']= conv['Age']\n",
        " i+=1"
      ],
      "metadata": {
        "id": "qxGYFdH6jbcH"
      }
    },
    {
      "cell_type": "code",
      "source": [
        "Titanic['Famsize']= Titanic['SibSp'] + Titanic['Parch'] +1"
      ],
      "metadata": {
        "id": "pKhSdXZUjTMq"
      },
      "execution_count": null,
      "outputs": []
    },
    {
      "cell_type": "code",
      "source": [
        "def conv_fam(size):\n",
        "  if(size==1):\n",
        "    return 'Single'\n",
        "  elif(size>2 and size <=4):\n",
        "    return 'Small'\n",
        "  elif(size>4 and size <=6):\n",
        "    return 'Medium'\n",
        "  else:\n",
        "    return 'Large'"
      ],
      "metadata": {
        "id": "CGKD84k5kR0g"
      },
      "execution_count": null,
      "outputs": []
    },
    {
      "cell_type": "code",
      "source": [
        "Titanic['Fam_cat']=Titanic['Famsize'].map(conv_fam)"
      ],
      "metadata": {
        "id": "Fa-rjM9qko1b"
      },
      "execution_count": null,
      "outputs": []
    },
    {
      "cell_type": "code",
      "source": [
        "def conv_fares(price):\n",
        "  if(price>=0 and price<25):\n",
        "    return 'Standard'\n",
        "  elif(price>=25 and price<50):\n",
        "    return 'Premium'\n",
        "  elif(price>=50 and price<100):\n",
        "    return 'Ultra'\n",
        "  elif(price>=100 and price<200):\n",
        "    return 'Max'\n",
        "  else:\n",
        "    return 'OP'"
      ],
      "metadata": {
        "id": "NZFSsbsozKht"
      },
      "execution_count": null,
      "outputs": []
    },
    {
      "cell_type": "code",
      "source": [
        "Titanic['Fare_cat']=Titanic['Fare'].map(conv_fares)"
      ],
      "metadata": {
        "id": "R-us4WFxzp67"
      },
      "execution_count": null,
      "outputs": []
    },
    {
      "cell_type": "code",
      "source": [
        "titanic=pd.get_dummies(Titanic,columns=['Sex','Pclass','Embarked','Age_grp','Fam_cat','Fare_cat','Title'])"
      ],
      "metadata": {
        "id": "7CLWnl2Dk87t"
      },
      "execution_count": null,
      "outputs": []
    },
    {
      "cell_type": "code",
      "source": [
        "titanic.shape"
      ],
      "metadata": {
        "colab": {
          "base_uri": "https://localhost:8080/"
        },
        "id": "DLwUXDH1lvj0",
        "outputId": "adf31080-bf14-459d-bcf8-70891d3066c1"
      },
      "execution_count": null,
      "outputs": [
        {
          "output_type": "execute_result",
          "data": {
            "text/plain": [
              "(1309, 53)"
            ]
          },
          "metadata": {},
          "execution_count": 42
        }
      ]
    },
    {
      "cell_type": "code",
      "source": [
        "titanic.info()"
      ],
      "metadata": {
        "colab": {
          "base_uri": "https://localhost:8080/"
        },
        "id": "q8M8lmP4ly0J",
        "outputId": "68d85069-c656-43ae-c3ef-54e69c3645f4"
      },
      "execution_count": null,
      "outputs": [
        {
          "output_type": "stream",
          "name": "stdout",
          "text": [
            "<class 'pandas.core.frame.DataFrame'>\n",
            "Int64Index: 1309 entries, 0 to 417\n",
            "Data columns (total 53 columns):\n",
            " #   Column                 Non-Null Count  Dtype  \n",
            "---  ------                 --------------  -----  \n",
            " 0   PassengerId            1309 non-null   int64  \n",
            " 1   Survived               891 non-null    float64\n",
            " 2   Name                   1309 non-null   object \n",
            " 3   Age                    1309 non-null   float64\n",
            " 4   SibSp                  1309 non-null   int64  \n",
            " 5   Parch                  1309 non-null   int64  \n",
            " 6   Ticket                 1309 non-null   object \n",
            " 7   Fare                   1309 non-null   float64\n",
            " 8   Cabin                  295 non-null    object \n",
            " 9   Famsize                1309 non-null   int64  \n",
            " 10  Sex_female             1309 non-null   uint8  \n",
            " 11  Sex_male               1309 non-null   uint8  \n",
            " 12  Pclass_1               1309 non-null   uint8  \n",
            " 13  Pclass_2               1309 non-null   uint8  \n",
            " 14  Pclass_3               1309 non-null   uint8  \n",
            " 15  Embarked_C             1309 non-null   uint8  \n",
            " 16  Embarked_Q             1309 non-null   uint8  \n",
            " 17  Embarked_S             1309 non-null   uint8  \n",
            " 18  Age_grp_Child          1309 non-null   uint8  \n",
            " 19  Age_grp_Infant         1309 non-null   uint8  \n",
            " 20  Age_grp_Late Adults    1309 non-null   uint8  \n",
            " 21  Age_grp_Middle Adults  1309 non-null   uint8  \n",
            " 22  Age_grp_Old            1309 non-null   uint8  \n",
            " 23  Age_grp_Pre Old Age    1309 non-null   uint8  \n",
            " 24  Age_grp_Teenager       1309 non-null   uint8  \n",
            " 25  Age_grp_Young Adults   1309 non-null   uint8  \n",
            " 26  Fam_cat_Large          1309 non-null   uint8  \n",
            " 27  Fam_cat_Medium         1309 non-null   uint8  \n",
            " 28  Fam_cat_Single         1309 non-null   uint8  \n",
            " 29  Fam_cat_Small          1309 non-null   uint8  \n",
            " 30  Fare_cat_Max           1309 non-null   uint8  \n",
            " 31  Fare_cat_OP            1309 non-null   uint8  \n",
            " 32  Fare_cat_Premium       1309 non-null   uint8  \n",
            " 33  Fare_cat_Standard      1309 non-null   uint8  \n",
            " 34  Fare_cat_Ultra         1309 non-null   uint8  \n",
            " 35  Title_Capt             1309 non-null   uint8  \n",
            " 36  Title_Col              1309 non-null   uint8  \n",
            " 37  Title_Don              1309 non-null   uint8  \n",
            " 38  Title_Dona             1309 non-null   uint8  \n",
            " 39  Title_Dr               1309 non-null   uint8  \n",
            " 40  Title_Jonkheer         1309 non-null   uint8  \n",
            " 41  Title_Lady             1309 non-null   uint8  \n",
            " 42  Title_Major            1309 non-null   uint8  \n",
            " 43  Title_Master           1309 non-null   uint8  \n",
            " 44  Title_Miss             1309 non-null   uint8  \n",
            " 45  Title_Mlle             1309 non-null   uint8  \n",
            " 46  Title_Mme              1309 non-null   uint8  \n",
            " 47  Title_Mr               1309 non-null   uint8  \n",
            " 48  Title_Mrs              1309 non-null   uint8  \n",
            " 49  Title_Ms               1309 non-null   uint8  \n",
            " 50  Title_Rev              1309 non-null   uint8  \n",
            " 51  Title_Sir              1309 non-null   uint8  \n",
            " 52  Title_the Countess     1309 non-null   uint8  \n",
            "dtypes: float64(3), int64(4), object(3), uint8(43)\n",
            "memory usage: 167.5+ KB\n"
          ]
        }
      ]
    },
    {
      "cell_type": "code",
      "source": [
        "titanic.head()"
      ],
      "metadata": {
        "colab": {
          "base_uri": "https://localhost:8080/",
          "height": 594
        },
        "id": "Bp4yYHCwl0Zv",
        "outputId": "70ddf43b-58f5-4e9f-ea8e-e7e2faa5722d"
      },
      "execution_count": null,
      "outputs": [
        {
          "output_type": "execute_result",
          "data": {
            "text/plain": [
              "   PassengerId  Survived                                               Name  \\\n",
              "0            1       0.0                            Braund, Mr. Owen Harris   \n",
              "1            2       1.0  Cumings, Mrs. John Bradley (Florence Briggs Th...   \n",
              "2            3       1.0                             Heikkinen, Miss. Laina   \n",
              "3            4       1.0       Futrelle, Mrs. Jacques Heath (Lily May Peel)   \n",
              "4            5       0.0                           Allen, Mr. William Henry   \n",
              "\n",
              "    Age  SibSp  Parch            Ticket     Fare Cabin  Famsize  ...  \\\n",
              "0  22.0      1      0         A/5 21171   7.2500   NaN        2  ...   \n",
              "1  38.0      1      0          PC 17599  71.2833   C85        2  ...   \n",
              "2  26.0      0      0  STON/O2. 3101282   7.9250   NaN        1  ...   \n",
              "3  35.0      1      0            113803  53.1000  C123        2  ...   \n",
              "4  35.0      0      0            373450   8.0500   NaN        1  ...   \n",
              "\n",
              "   Title_Master  Title_Miss  Title_Mlle  Title_Mme  Title_Mr  Title_Mrs  \\\n",
              "0             0           0           0          0         1          0   \n",
              "1             0           0           0          0         0          1   \n",
              "2             0           1           0          0         0          0   \n",
              "3             0           0           0          0         0          1   \n",
              "4             0           0           0          0         1          0   \n",
              "\n",
              "   Title_Ms  Title_Rev  Title_Sir  Title_the Countess  \n",
              "0         0          0          0                   0  \n",
              "1         0          0          0                   0  \n",
              "2         0          0          0                   0  \n",
              "3         0          0          0                   0  \n",
              "4         0          0          0                   0  \n",
              "\n",
              "[5 rows x 53 columns]"
            ],
            "text/html": [
              "\n",
              "  <div id=\"df-ce73cc82-fee8-49f7-bb60-df44876ff4f6\">\n",
              "    <div class=\"colab-df-container\">\n",
              "      <div>\n",
              "<style scoped>\n",
              "    .dataframe tbody tr th:only-of-type {\n",
              "        vertical-align: middle;\n",
              "    }\n",
              "\n",
              "    .dataframe tbody tr th {\n",
              "        vertical-align: top;\n",
              "    }\n",
              "\n",
              "    .dataframe thead th {\n",
              "        text-align: right;\n",
              "    }\n",
              "</style>\n",
              "<table border=\"1\" class=\"dataframe\">\n",
              "  <thead>\n",
              "    <tr style=\"text-align: right;\">\n",
              "      <th></th>\n",
              "      <th>PassengerId</th>\n",
              "      <th>Survived</th>\n",
              "      <th>Name</th>\n",
              "      <th>Age</th>\n",
              "      <th>SibSp</th>\n",
              "      <th>Parch</th>\n",
              "      <th>Ticket</th>\n",
              "      <th>Fare</th>\n",
              "      <th>Cabin</th>\n",
              "      <th>Famsize</th>\n",
              "      <th>...</th>\n",
              "      <th>Title_Master</th>\n",
              "      <th>Title_Miss</th>\n",
              "      <th>Title_Mlle</th>\n",
              "      <th>Title_Mme</th>\n",
              "      <th>Title_Mr</th>\n",
              "      <th>Title_Mrs</th>\n",
              "      <th>Title_Ms</th>\n",
              "      <th>Title_Rev</th>\n",
              "      <th>Title_Sir</th>\n",
              "      <th>Title_the Countess</th>\n",
              "    </tr>\n",
              "  </thead>\n",
              "  <tbody>\n",
              "    <tr>\n",
              "      <th>0</th>\n",
              "      <td>1</td>\n",
              "      <td>0.0</td>\n",
              "      <td>Braund, Mr. Owen Harris</td>\n",
              "      <td>22.0</td>\n",
              "      <td>1</td>\n",
              "      <td>0</td>\n",
              "      <td>A/5 21171</td>\n",
              "      <td>7.2500</td>\n",
              "      <td>NaN</td>\n",
              "      <td>2</td>\n",
              "      <td>...</td>\n",
              "      <td>0</td>\n",
              "      <td>0</td>\n",
              "      <td>0</td>\n",
              "      <td>0</td>\n",
              "      <td>1</td>\n",
              "      <td>0</td>\n",
              "      <td>0</td>\n",
              "      <td>0</td>\n",
              "      <td>0</td>\n",
              "      <td>0</td>\n",
              "    </tr>\n",
              "    <tr>\n",
              "      <th>1</th>\n",
              "      <td>2</td>\n",
              "      <td>1.0</td>\n",
              "      <td>Cumings, Mrs. John Bradley (Florence Briggs Th...</td>\n",
              "      <td>38.0</td>\n",
              "      <td>1</td>\n",
              "      <td>0</td>\n",
              "      <td>PC 17599</td>\n",
              "      <td>71.2833</td>\n",
              "      <td>C85</td>\n",
              "      <td>2</td>\n",
              "      <td>...</td>\n",
              "      <td>0</td>\n",
              "      <td>0</td>\n",
              "      <td>0</td>\n",
              "      <td>0</td>\n",
              "      <td>0</td>\n",
              "      <td>1</td>\n",
              "      <td>0</td>\n",
              "      <td>0</td>\n",
              "      <td>0</td>\n",
              "      <td>0</td>\n",
              "    </tr>\n",
              "    <tr>\n",
              "      <th>2</th>\n",
              "      <td>3</td>\n",
              "      <td>1.0</td>\n",
              "      <td>Heikkinen, Miss. Laina</td>\n",
              "      <td>26.0</td>\n",
              "      <td>0</td>\n",
              "      <td>0</td>\n",
              "      <td>STON/O2. 3101282</td>\n",
              "      <td>7.9250</td>\n",
              "      <td>NaN</td>\n",
              "      <td>1</td>\n",
              "      <td>...</td>\n",
              "      <td>0</td>\n",
              "      <td>1</td>\n",
              "      <td>0</td>\n",
              "      <td>0</td>\n",
              "      <td>0</td>\n",
              "      <td>0</td>\n",
              "      <td>0</td>\n",
              "      <td>0</td>\n",
              "      <td>0</td>\n",
              "      <td>0</td>\n",
              "    </tr>\n",
              "    <tr>\n",
              "      <th>3</th>\n",
              "      <td>4</td>\n",
              "      <td>1.0</td>\n",
              "      <td>Futrelle, Mrs. Jacques Heath (Lily May Peel)</td>\n",
              "      <td>35.0</td>\n",
              "      <td>1</td>\n",
              "      <td>0</td>\n",
              "      <td>113803</td>\n",
              "      <td>53.1000</td>\n",
              "      <td>C123</td>\n",
              "      <td>2</td>\n",
              "      <td>...</td>\n",
              "      <td>0</td>\n",
              "      <td>0</td>\n",
              "      <td>0</td>\n",
              "      <td>0</td>\n",
              "      <td>0</td>\n",
              "      <td>1</td>\n",
              "      <td>0</td>\n",
              "      <td>0</td>\n",
              "      <td>0</td>\n",
              "      <td>0</td>\n",
              "    </tr>\n",
              "    <tr>\n",
              "      <th>4</th>\n",
              "      <td>5</td>\n",
              "      <td>0.0</td>\n",
              "      <td>Allen, Mr. William Henry</td>\n",
              "      <td>35.0</td>\n",
              "      <td>0</td>\n",
              "      <td>0</td>\n",
              "      <td>373450</td>\n",
              "      <td>8.0500</td>\n",
              "      <td>NaN</td>\n",
              "      <td>1</td>\n",
              "      <td>...</td>\n",
              "      <td>0</td>\n",
              "      <td>0</td>\n",
              "      <td>0</td>\n",
              "      <td>0</td>\n",
              "      <td>1</td>\n",
              "      <td>0</td>\n",
              "      <td>0</td>\n",
              "      <td>0</td>\n",
              "      <td>0</td>\n",
              "      <td>0</td>\n",
              "    </tr>\n",
              "  </tbody>\n",
              "</table>\n",
              "<p>5 rows × 53 columns</p>\n",
              "</div>\n",
              "      <button class=\"colab-df-convert\" onclick=\"convertToInteractive('df-ce73cc82-fee8-49f7-bb60-df44876ff4f6')\"\n",
              "              title=\"Convert this dataframe to an interactive table.\"\n",
              "              style=\"display:none;\">\n",
              "        \n",
              "  <svg xmlns=\"http://www.w3.org/2000/svg\" height=\"24px\"viewBox=\"0 0 24 24\"\n",
              "       width=\"24px\">\n",
              "    <path d=\"M0 0h24v24H0V0z\" fill=\"none\"/>\n",
              "    <path d=\"M18.56 5.44l.94 2.06.94-2.06 2.06-.94-2.06-.94-.94-2.06-.94 2.06-2.06.94zm-11 1L8.5 8.5l.94-2.06 2.06-.94-2.06-.94L8.5 2.5l-.94 2.06-2.06.94zm10 10l.94 2.06.94-2.06 2.06-.94-2.06-.94-.94-2.06-.94 2.06-2.06.94z\"/><path d=\"M17.41 7.96l-1.37-1.37c-.4-.4-.92-.59-1.43-.59-.52 0-1.04.2-1.43.59L10.3 9.45l-7.72 7.72c-.78.78-.78 2.05 0 2.83L4 21.41c.39.39.9.59 1.41.59.51 0 1.02-.2 1.41-.59l7.78-7.78 2.81-2.81c.8-.78.8-2.07 0-2.86zM5.41 20L4 18.59l7.72-7.72 1.47 1.35L5.41 20z\"/>\n",
              "  </svg>\n",
              "      </button>\n",
              "      \n",
              "  <style>\n",
              "    .colab-df-container {\n",
              "      display:flex;\n",
              "      flex-wrap:wrap;\n",
              "      gap: 12px;\n",
              "    }\n",
              "\n",
              "    .colab-df-convert {\n",
              "      background-color: #E8F0FE;\n",
              "      border: none;\n",
              "      border-radius: 50%;\n",
              "      cursor: pointer;\n",
              "      display: none;\n",
              "      fill: #1967D2;\n",
              "      height: 32px;\n",
              "      padding: 0 0 0 0;\n",
              "      width: 32px;\n",
              "    }\n",
              "\n",
              "    .colab-df-convert:hover {\n",
              "      background-color: #E2EBFA;\n",
              "      box-shadow: 0px 1px 2px rgba(60, 64, 67, 0.3), 0px 1px 3px 1px rgba(60, 64, 67, 0.15);\n",
              "      fill: #174EA6;\n",
              "    }\n",
              "\n",
              "    [theme=dark] .colab-df-convert {\n",
              "      background-color: #3B4455;\n",
              "      fill: #D2E3FC;\n",
              "    }\n",
              "\n",
              "    [theme=dark] .colab-df-convert:hover {\n",
              "      background-color: #434B5C;\n",
              "      box-shadow: 0px 1px 3px 1px rgba(0, 0, 0, 0.15);\n",
              "      filter: drop-shadow(0px 1px 2px rgba(0, 0, 0, 0.3));\n",
              "      fill: #FFFFFF;\n",
              "    }\n",
              "  </style>\n",
              "\n",
              "      <script>\n",
              "        const buttonEl =\n",
              "          document.querySelector('#df-ce73cc82-fee8-49f7-bb60-df44876ff4f6 button.colab-df-convert');\n",
              "        buttonEl.style.display =\n",
              "          google.colab.kernel.accessAllowed ? 'block' : 'none';\n",
              "\n",
              "        async function convertToInteractive(key) {\n",
              "          const element = document.querySelector('#df-ce73cc82-fee8-49f7-bb60-df44876ff4f6');\n",
              "          const dataTable =\n",
              "            await google.colab.kernel.invokeFunction('convertToInteractive',\n",
              "                                                     [key], {});\n",
              "          if (!dataTable) return;\n",
              "\n",
              "          const docLinkHtml = 'Like what you see? Visit the ' +\n",
              "            '<a target=\"_blank\" href=https://colab.research.google.com/notebooks/data_table.ipynb>data table notebook</a>'\n",
              "            + ' to learn more about interactive tables.';\n",
              "          element.innerHTML = '';\n",
              "          dataTable['output_type'] = 'display_data';\n",
              "          await google.colab.output.renderOutput(dataTable, element);\n",
              "          const docLink = document.createElement('div');\n",
              "          docLink.innerHTML = docLinkHtml;\n",
              "          element.appendChild(docLink);\n",
              "        }\n",
              "      </script>\n",
              "    </div>\n",
              "  </div>\n",
              "  "
            ]
          },
          "metadata": {},
          "execution_count": 44
        }
      ]
    },
    {
      "cell_type": "code",
      "source": [
        "training = titanic.drop(['PassengerId' , 'Name' , 'Age' , 'Ticket' , 'Cabin' , 'SibSp' , 'Parch','Survived'],axis=1,inplace=False)"
      ],
      "metadata": {
        "id": "LDQ5Zo0jl4d8"
      },
      "execution_count": null,
      "outputs": []
    },
    {
      "cell_type": "code",
      "source": [
        "training.shape"
      ],
      "metadata": {
        "colab": {
          "base_uri": "https://localhost:8080/"
        },
        "id": "hJtBChpims8q",
        "outputId": "81b49d49-2210-4c00-ba79-da8de63b4aea"
      },
      "execution_count": null,
      "outputs": [
        {
          "output_type": "execute_result",
          "data": {
            "text/plain": [
              "(1309, 45)"
            ]
          },
          "metadata": {},
          "execution_count": 49
        }
      ]
    },
    {
      "cell_type": "code",
      "source": [
        "training.info()"
      ],
      "metadata": {
        "colab": {
          "base_uri": "https://localhost:8080/"
        },
        "id": "Su40JpCXnzeg",
        "outputId": "64aa8375-44d9-4a9e-b553-aaaa6955c40a"
      },
      "execution_count": null,
      "outputs": [
        {
          "output_type": "stream",
          "name": "stdout",
          "text": [
            "<class 'pandas.core.frame.DataFrame'>\n",
            "Int64Index: 1309 entries, 0 to 417\n",
            "Data columns (total 45 columns):\n",
            " #   Column                 Non-Null Count  Dtype  \n",
            "---  ------                 --------------  -----  \n",
            " 0   Fare                   1309 non-null   float64\n",
            " 1   Famsize                1309 non-null   int64  \n",
            " 2   Sex_female             1309 non-null   uint8  \n",
            " 3   Sex_male               1309 non-null   uint8  \n",
            " 4   Pclass_1               1309 non-null   uint8  \n",
            " 5   Pclass_2               1309 non-null   uint8  \n",
            " 6   Pclass_3               1309 non-null   uint8  \n",
            " 7   Embarked_C             1309 non-null   uint8  \n",
            " 8   Embarked_Q             1309 non-null   uint8  \n",
            " 9   Embarked_S             1309 non-null   uint8  \n",
            " 10  Age_grp_Child          1309 non-null   uint8  \n",
            " 11  Age_grp_Infant         1309 non-null   uint8  \n",
            " 12  Age_grp_Late Adults    1309 non-null   uint8  \n",
            " 13  Age_grp_Middle Adults  1309 non-null   uint8  \n",
            " 14  Age_grp_Old            1309 non-null   uint8  \n",
            " 15  Age_grp_Pre Old Age    1309 non-null   uint8  \n",
            " 16  Age_grp_Teenager       1309 non-null   uint8  \n",
            " 17  Age_grp_Young Adults   1309 non-null   uint8  \n",
            " 18  Fam_cat_Large          1309 non-null   uint8  \n",
            " 19  Fam_cat_Medium         1309 non-null   uint8  \n",
            " 20  Fam_cat_Single         1309 non-null   uint8  \n",
            " 21  Fam_cat_Small          1309 non-null   uint8  \n",
            " 22  Fare_cat_Max           1309 non-null   uint8  \n",
            " 23  Fare_cat_OP            1309 non-null   uint8  \n",
            " 24  Fare_cat_Premium       1309 non-null   uint8  \n",
            " 25  Fare_cat_Standard      1309 non-null   uint8  \n",
            " 26  Fare_cat_Ultra         1309 non-null   uint8  \n",
            " 27  Title_Capt             1309 non-null   uint8  \n",
            " 28  Title_Col              1309 non-null   uint8  \n",
            " 29  Title_Don              1309 non-null   uint8  \n",
            " 30  Title_Dona             1309 non-null   uint8  \n",
            " 31  Title_Dr               1309 non-null   uint8  \n",
            " 32  Title_Jonkheer         1309 non-null   uint8  \n",
            " 33  Title_Lady             1309 non-null   uint8  \n",
            " 34  Title_Major            1309 non-null   uint8  \n",
            " 35  Title_Master           1309 non-null   uint8  \n",
            " 36  Title_Miss             1309 non-null   uint8  \n",
            " 37  Title_Mlle             1309 non-null   uint8  \n",
            " 38  Title_Mme              1309 non-null   uint8  \n",
            " 39  Title_Mr               1309 non-null   uint8  \n",
            " 40  Title_Mrs              1309 non-null   uint8  \n",
            " 41  Title_Ms               1309 non-null   uint8  \n",
            " 42  Title_Rev              1309 non-null   uint8  \n",
            " 43  Title_Sir              1309 non-null   uint8  \n",
            " 44  Title_the Countess     1309 non-null   uint8  \n",
            "dtypes: float64(1), int64(1), uint8(43)\n",
            "memory usage: 85.6 KB\n"
          ]
        }
      ]
    },
    {
      "cell_type": "code",
      "source": [
        "x_train=training[0:891]"
      ],
      "metadata": {
        "id": "wwL_pHcmn1v-"
      },
      "execution_count": null,
      "outputs": []
    },
    {
      "cell_type": "code",
      "source": [
        "x_train.shape"
      ],
      "metadata": {
        "colab": {
          "base_uri": "https://localhost:8080/"
        },
        "id": "wleL4WAGoGz6",
        "outputId": "07732cc8-a142-45e7-d7d8-939c009875e1"
      },
      "execution_count": null,
      "outputs": [
        {
          "output_type": "execute_result",
          "data": {
            "text/plain": [
              "(891, 45)"
            ]
          },
          "metadata": {},
          "execution_count": 52
        }
      ]
    },
    {
      "cell_type": "code",
      "source": [
        "y_train=Train['Survived']"
      ],
      "metadata": {
        "id": "a_ojCQjAoJIG"
      },
      "execution_count": null,
      "outputs": []
    },
    {
      "cell_type": "code",
      "source": [
        "dt=tree.DecisionTreeClassifier(max_depth=5)\n",
        "dt.fit(x_train,y_train)"
      ],
      "metadata": {
        "id": "Pp-nX_jwpOeh",
        "colab": {
          "base_uri": "https://localhost:8080/",
          "height": 75
        },
        "outputId": "a351aa9b-d891-474e-b86b-f76f4cf900fa"
      },
      "execution_count": null,
      "outputs": [
        {
          "output_type": "execute_result",
          "data": {
            "text/plain": [
              "DecisionTreeClassifier(max_depth=5)"
            ],
            "text/html": [
              "<style>#sk-container-id-7 {color: black;background-color: white;}#sk-container-id-7 pre{padding: 0;}#sk-container-id-7 div.sk-toggleable {background-color: white;}#sk-container-id-7 label.sk-toggleable__label {cursor: pointer;display: block;width: 100%;margin-bottom: 0;padding: 0.3em;box-sizing: border-box;text-align: center;}#sk-container-id-7 label.sk-toggleable__label-arrow:before {content: \"▸\";float: left;margin-right: 0.25em;color: #696969;}#sk-container-id-7 label.sk-toggleable__label-arrow:hover:before {color: black;}#sk-container-id-7 div.sk-estimator:hover label.sk-toggleable__label-arrow:before {color: black;}#sk-container-id-7 div.sk-toggleable__content {max-height: 0;max-width: 0;overflow: hidden;text-align: left;background-color: #f0f8ff;}#sk-container-id-7 div.sk-toggleable__content pre {margin: 0.2em;color: black;border-radius: 0.25em;background-color: #f0f8ff;}#sk-container-id-7 input.sk-toggleable__control:checked~div.sk-toggleable__content {max-height: 200px;max-width: 100%;overflow: auto;}#sk-container-id-7 input.sk-toggleable__control:checked~label.sk-toggleable__label-arrow:before {content: \"▾\";}#sk-container-id-7 div.sk-estimator input.sk-toggleable__control:checked~label.sk-toggleable__label {background-color: #d4ebff;}#sk-container-id-7 div.sk-label input.sk-toggleable__control:checked~label.sk-toggleable__label {background-color: #d4ebff;}#sk-container-id-7 input.sk-hidden--visually {border: 0;clip: rect(1px 1px 1px 1px);clip: rect(1px, 1px, 1px, 1px);height: 1px;margin: -1px;overflow: hidden;padding: 0;position: absolute;width: 1px;}#sk-container-id-7 div.sk-estimator {font-family: monospace;background-color: #f0f8ff;border: 1px dotted black;border-radius: 0.25em;box-sizing: border-box;margin-bottom: 0.5em;}#sk-container-id-7 div.sk-estimator:hover {background-color: #d4ebff;}#sk-container-id-7 div.sk-parallel-item::after {content: \"\";width: 100%;border-bottom: 1px solid gray;flex-grow: 1;}#sk-container-id-7 div.sk-label:hover label.sk-toggleable__label {background-color: #d4ebff;}#sk-container-id-7 div.sk-serial::before {content: \"\";position: absolute;border-left: 1px solid gray;box-sizing: border-box;top: 0;bottom: 0;left: 50%;z-index: 0;}#sk-container-id-7 div.sk-serial {display: flex;flex-direction: column;align-items: center;background-color: white;padding-right: 0.2em;padding-left: 0.2em;position: relative;}#sk-container-id-7 div.sk-item {position: relative;z-index: 1;}#sk-container-id-7 div.sk-parallel {display: flex;align-items: stretch;justify-content: center;background-color: white;position: relative;}#sk-container-id-7 div.sk-item::before, #sk-container-id-7 div.sk-parallel-item::before {content: \"\";position: absolute;border-left: 1px solid gray;box-sizing: border-box;top: 0;bottom: 0;left: 50%;z-index: -1;}#sk-container-id-7 div.sk-parallel-item {display: flex;flex-direction: column;z-index: 1;position: relative;background-color: white;}#sk-container-id-7 div.sk-parallel-item:first-child::after {align-self: flex-end;width: 50%;}#sk-container-id-7 div.sk-parallel-item:last-child::after {align-self: flex-start;width: 50%;}#sk-container-id-7 div.sk-parallel-item:only-child::after {width: 0;}#sk-container-id-7 div.sk-dashed-wrapped {border: 1px dashed gray;margin: 0 0.4em 0.5em 0.4em;box-sizing: border-box;padding-bottom: 0.4em;background-color: white;}#sk-container-id-7 div.sk-label label {font-family: monospace;font-weight: bold;display: inline-block;line-height: 1.2em;}#sk-container-id-7 div.sk-label-container {text-align: center;}#sk-container-id-7 div.sk-container {/* jupyter's `normalize.less` sets `[hidden] { display: none; }` but bootstrap.min.css set `[hidden] { display: none !important; }` so we also need the `!important` here to be able to override the default hidden behavior on the sphinx rendered scikit-learn.org. See: https://github.com/scikit-learn/scikit-learn/issues/21755 */display: inline-block !important;position: relative;}#sk-container-id-7 div.sk-text-repr-fallback {display: none;}</style><div id=\"sk-container-id-7\" class=\"sk-top-container\"><div class=\"sk-text-repr-fallback\"><pre>DecisionTreeClassifier(max_depth=5)</pre><b>In a Jupyter environment, please rerun this cell to show the HTML representation or trust the notebook. <br />On GitHub, the HTML representation is unable to render, please try loading this page with nbviewer.org.</b></div><div class=\"sk-container\" hidden><div class=\"sk-item\"><div class=\"sk-estimator sk-toggleable\"><input class=\"sk-toggleable__control sk-hidden--visually\" id=\"sk-estimator-id-9\" type=\"checkbox\" checked><label for=\"sk-estimator-id-9\" class=\"sk-toggleable__label sk-toggleable__label-arrow\">DecisionTreeClassifier</label><div class=\"sk-toggleable__content\"><pre>DecisionTreeClassifier(max_depth=5)</pre></div></div></div></div></div>"
            ]
          },
          "metadata": {},
          "execution_count": 141
        }
      ]
    },
    {
      "cell_type": "code",
      "source": [
        "dt1= {'min_samples_split':[2,3,6,7,8], 'criterion':['gini','entropy']}"
      ],
      "metadata": {
        "id": "ycfQUUHilfU5"
      },
      "execution_count": null,
      "outputs": []
    },
    {
      "cell_type": "code",
      "source": [
        "#dt_grid = {'max_depth':list(range(10,30)), 'min_samples_split':list(range(2,8)), 'criterion':['gini','entropy']}"
      ],
      "metadata": {
        "id": "yRoy2NOhpYle"
      },
      "execution_count": null,
      "outputs": []
    },
    {
      "cell_type": "markdown",
      "source": [
        "the decision tree goes to the absolute depth but not all the times its good thats why we are limiting its depth using these functions-\n",
        "max depth is used to cut the tree and min sample is used to define at which value the tree should stop."
      ],
      "metadata": {
        "id": "_E4dJlsZk_zF"
      }
    },
    {
      "cell_type": "code",
      "source": [
        "dt_grid=model_selection.GridSearchCV(dt,dt1,cv=9)#Evolution of tree\n",
        "dt_grid.fit(x_train,y_train)#building of tree\n",
        "dt_grid.cv_results_"
      ],
      "metadata": {
        "colab": {
          "base_uri": "https://localhost:8080/"
        },
        "id": "TYF3e_sFrQsE",
        "outputId": "29e10b7b-5f0c-4f3c-a51d-b70ffb19196e"
      },
      "execution_count": null,
      "outputs": [
        {
          "output_type": "execute_result",
          "data": {
            "text/plain": [
              "{'mean_fit_time': array([0.00456802, 0.00416345, 0.00396   , 0.00450095, 0.00408567,\n",
              "        0.00403923, 0.00437495, 0.00414952, 0.00449475, 0.00427259]),\n",
              " 'std_fit_time': array([1.64081157e-03, 5.17696990e-04, 1.13657088e-04, 1.58441083e-03,\n",
              "        5.63941396e-04, 7.72952541e-05, 8.95153466e-04, 2.72663981e-04,\n",
              "        9.15640703e-04, 4.42884159e-04]),\n",
              " 'mean_score_time': array([0.00214836, 0.00213782, 0.00206137, 0.0020224 , 0.00195363,\n",
              "        0.00201352, 0.00213183, 0.00207477, 0.00225157, 0.00208619]),\n",
              " 'std_score_time': array([2.22019903e-04, 2.44251401e-04, 1.11294810e-04, 1.32003875e-04,\n",
              "        3.36145667e-05, 5.08899417e-05, 2.63978506e-04, 1.27131727e-04,\n",
              "        4.83208604e-04, 6.25188741e-05]),\n",
              " 'param_criterion': masked_array(data=['gini', 'gini', 'gini', 'gini', 'gini', 'entropy',\n",
              "                    'entropy', 'entropy', 'entropy', 'entropy'],\n",
              "              mask=[False, False, False, False, False, False, False, False,\n",
              "                    False, False],\n",
              "        fill_value='?',\n",
              "             dtype=object),\n",
              " 'param_min_samples_split': masked_array(data=[2, 3, 6, 7, 8, 2, 3, 6, 7, 8],\n",
              "              mask=[False, False, False, False, False, False, False, False,\n",
              "                    False, False],\n",
              "        fill_value='?',\n",
              "             dtype=object),\n",
              " 'params': [{'criterion': 'gini', 'min_samples_split': 2},\n",
              "  {'criterion': 'gini', 'min_samples_split': 3},\n",
              "  {'criterion': 'gini', 'min_samples_split': 6},\n",
              "  {'criterion': 'gini', 'min_samples_split': 7},\n",
              "  {'criterion': 'gini', 'min_samples_split': 8},\n",
              "  {'criterion': 'entropy', 'min_samples_split': 2},\n",
              "  {'criterion': 'entropy', 'min_samples_split': 3},\n",
              "  {'criterion': 'entropy', 'min_samples_split': 6},\n",
              "  {'criterion': 'entropy', 'min_samples_split': 7},\n",
              "  {'criterion': 'entropy', 'min_samples_split': 8}],\n",
              " 'split0_test_score': array([0.77777778, 0.77777778, 0.76767677, 0.76767677, 0.77777778,\n",
              "        0.85858586, 0.84848485, 0.84848485, 0.84848485, 0.84848485]),\n",
              " 'split1_test_score': array([0.84848485, 0.84848485, 0.84848485, 0.82828283, 0.82828283,\n",
              "        0.82828283, 0.83838384, 0.83838384, 0.84848485, 0.83838384]),\n",
              " 'split2_test_score': array([0.74747475, 0.74747475, 0.75757576, 0.75757576, 0.74747475,\n",
              "        0.75757576, 0.75757576, 0.75757576, 0.75757576, 0.75757576]),\n",
              " 'split3_test_score': array([0.91919192, 0.91919192, 0.92929293, 0.92929293, 0.91919192,\n",
              "        0.90909091, 0.90909091, 0.90909091, 0.91919192, 0.90909091]),\n",
              " 'split4_test_score': array([0.81818182, 0.82828283, 0.81818182, 0.81818182, 0.81818182,\n",
              "        0.81818182, 0.81818182, 0.81818182, 0.81818182, 0.81818182]),\n",
              " 'split5_test_score': array([0.81818182, 0.81818182, 0.81818182, 0.82828283, 0.82828283,\n",
              "        0.82828283, 0.82828283, 0.82828283, 0.82828283, 0.82828283]),\n",
              " 'split6_test_score': array([0.80808081, 0.7979798 , 0.7979798 , 0.7979798 , 0.7979798 ,\n",
              "        0.7979798 , 0.7979798 , 0.7979798 , 0.7979798 , 0.7979798 ]),\n",
              " 'split7_test_score': array([0.84848485, 0.84848485, 0.84848485, 0.85858586, 0.85858586,\n",
              "        0.85858586, 0.85858586, 0.85858586, 0.85858586, 0.85858586]),\n",
              " 'split8_test_score': array([0.81818182, 0.81818182, 0.81818182, 0.81818182, 0.81818182,\n",
              "        0.83838384, 0.83838384, 0.83838384, 0.83838384, 0.83838384]),\n",
              " 'mean_test_score': array([0.82267116, 0.82267116, 0.82267116, 0.82267116, 0.82154882,\n",
              "        0.83277217, 0.83277217, 0.83277217, 0.83501684, 0.83277217]),\n",
              " 'std_test_score': array([0.04545108, 0.04594723, 0.04788042, 0.04788042, 0.0459198 ,\n",
              "        0.03987053, 0.03929774, 0.03929774, 0.04178341, 0.03929774]),\n",
              " 'rank_test_score': array([ 6,  6,  9,  6, 10,  2,  2,  2,  1,  2], dtype=int32)}"
            ]
          },
          "metadata": {},
          "execution_count": 146
        }
      ]
    },
    {
      "cell_type": "markdown",
      "source": [
        "cv means we are breaking the train data into n small validation data for testing\n",
        "cv stands for Cross Validation\n",
        "grid search cv is used to search for the best model in the 30 outcome models which we will be getting"
      ],
      "metadata": {
        "id": "fM_P27PUmVF8"
      }
    },
    {
      "cell_type": "code",
      "source": [
        "objStringIO=io.StringIO()\n",
        "tree.export_graphviz(dt,out_file=objStringIO,feature_names=x_train.columns)"
      ],
      "metadata": {
        "id": "zMkWYxkbwMNj"
      },
      "execution_count": null,
      "outputs": []
    },
    {
      "cell_type": "code",
      "source": [
        "file1=pydotplus.graph_from_dot_data(objStringIO.getvalue())\n",
        "file1.write_pdf(\"DecisionTree2.pdf\")"
      ],
      "metadata": {
        "id": "nTpC8Qt1wPED",
        "colab": {
          "base_uri": "https://localhost:8080/"
        },
        "outputId": "a6193eb5-6104-423f-93bc-301e8989e652"
      },
      "execution_count": null,
      "outputs": [
        {
          "output_type": "execute_result",
          "data": {
            "text/plain": [
              "True"
            ]
          },
          "metadata": {},
          "execution_count": 148
        }
      ]
    },
    {
      "cell_type": "code",
      "source": [
        "dt1.best_score_\n",
        "#dt1.best_params_"
      ],
      "metadata": {
        "colab": {
          "base_uri": "https://localhost:8080/",
          "height": 183
        },
        "id": "vRh2feguroSW",
        "outputId": "445d983e-d919-438b-920b-7b8a85ba028b"
      },
      "execution_count": null,
      "outputs": [
        {
          "output_type": "error",
          "ename": "AttributeError",
          "evalue": "ignored",
          "traceback": [
            "\u001b[0;31m---------------------------------------------------------------------------\u001b[0m",
            "\u001b[0;31mAttributeError\u001b[0m                            Traceback (most recent call last)",
            "\u001b[0;32m<ipython-input-150-571b765b1b04>\u001b[0m in \u001b[0;36m<cell line: 1>\u001b[0;34m()\u001b[0m\n\u001b[0;32m----> 1\u001b[0;31m \u001b[0mdt1\u001b[0m\u001b[0;34m.\u001b[0m\u001b[0mbest_score_\u001b[0m\u001b[0;34m\u001b[0m\u001b[0;34m\u001b[0m\u001b[0m\n\u001b[0m\u001b[1;32m      2\u001b[0m \u001b[0;31m#dt1.best_params_\u001b[0m\u001b[0;34m\u001b[0m\u001b[0;34m\u001b[0m\u001b[0m\n",
            "\u001b[0;31mAttributeError\u001b[0m: 'dict' object has no attribute 'best_score_'"
          ]
        }
      ]
    },
    {
      "cell_type": "code",
      "source": [
        "f=pd.DataFrame({'Feature':x_train.columns, 'importance': dt1.best_estimator_.feature_importances_})\n",
        "f"
      ],
      "metadata": {
        "colab": {
          "base_uri": "https://localhost:8080/",
          "height": 200
        },
        "id": "BkV22IEmub7r",
        "outputId": "0d9a0d6e-4be8-47a5-b441-63bc08ffb85e"
      },
      "execution_count": null,
      "outputs": [
        {
          "output_type": "error",
          "ename": "AttributeError",
          "evalue": "ignored",
          "traceback": [
            "\u001b[0;31m---------------------------------------------------------------------------\u001b[0m",
            "\u001b[0;31mAttributeError\u001b[0m                            Traceback (most recent call last)",
            "\u001b[0;32m<ipython-input-140-ddf5eb133dfd>\u001b[0m in \u001b[0;36m<cell line: 1>\u001b[0;34m()\u001b[0m\n\u001b[0;32m----> 1\u001b[0;31m \u001b[0mf\u001b[0m\u001b[0;34m=\u001b[0m\u001b[0mpd\u001b[0m\u001b[0;34m.\u001b[0m\u001b[0mDataFrame\u001b[0m\u001b[0;34m(\u001b[0m\u001b[0;34m{\u001b[0m\u001b[0;34m'Feature'\u001b[0m\u001b[0;34m:\u001b[0m\u001b[0mx_train\u001b[0m\u001b[0;34m.\u001b[0m\u001b[0mcolumns\u001b[0m\u001b[0;34m,\u001b[0m \u001b[0;34m'importance'\u001b[0m\u001b[0;34m:\u001b[0m \u001b[0mdt1\u001b[0m\u001b[0;34m.\u001b[0m\u001b[0mbest_estimator_\u001b[0m\u001b[0;34m.\u001b[0m\u001b[0mfeature_importances_\u001b[0m\u001b[0;34m}\u001b[0m\u001b[0;34m)\u001b[0m\u001b[0;34m\u001b[0m\u001b[0;34m\u001b[0m\u001b[0m\n\u001b[0m\u001b[1;32m      2\u001b[0m \u001b[0mf\u001b[0m\u001b[0;34m\u001b[0m\u001b[0;34m\u001b[0m\u001b[0m\n",
            "\u001b[0;31mAttributeError\u001b[0m: 'dict' object has no attribute 'best_estimator_'"
          ]
        }
      ]
    },
    {
      "cell_type": "code",
      "source": [
        "x_test=training[Train.shape[0]:]"
      ],
      "metadata": {
        "id": "d-NVIKjIoQAG"
      },
      "execution_count": null,
      "outputs": []
    },
    {
      "cell_type": "code",
      "source": [
        "x_test.shape"
      ],
      "metadata": {
        "colab": {
          "base_uri": "https://localhost:8080/"
        },
        "id": "ZAezo1zfpFQC",
        "outputId": "6be73a7c-36c1-4d31-b2da-eb554954390f"
      },
      "execution_count": null,
      "outputs": [
        {
          "output_type": "execute_result",
          "data": {
            "text/plain": [
              "(418, 45)"
            ]
          },
          "metadata": {},
          "execution_count": 55
        }
      ]
    },
    {
      "cell_type": "code",
      "source": [
        "Test['Survived']=param_grid.predict(x_test)"
      ],
      "metadata": {
        "id": "cq39vtYarde4"
      },
      "execution_count": null,
      "outputs": []
    },
    {
      "cell_type": "code",
      "source": [
        "Test.to_csv('Attempt5.7.csv',columns=['PassengerId','Survived'],index=False)"
      ],
      "metadata": {
        "id": "ClhKCl_yrqoQ"
      },
      "execution_count": null,
      "outputs": []
    },
    {
      "cell_type": "code",
      "source": [
        "param_grid.best_score_#after changing cv to 15"
      ],
      "metadata": {
        "colab": {
          "base_uri": "https://localhost:8080/"
        },
        "id": "hDFyJtzVrZlp",
        "outputId": "6566e4b8-636e-4ab2-84f9-47a671bdc109"
      },
      "execution_count": null,
      "outputs": [
        {
          "output_type": "execute_result",
          "data": {
            "text/plain": [
              "0.808210922787194"
            ]
          },
          "metadata": {},
          "execution_count": 84
        }
      ]
    },
    {
      "cell_type": "code",
      "source": [
        "param_grid.best_score_#after changing the cv cv=5"
      ],
      "metadata": {
        "colab": {
          "base_uri": "https://localhost:8080/"
        },
        "id": "M3rmHz01qkSu",
        "outputId": "31306fb6-93eb-4a3f-8f0c-576549dd41ce"
      },
      "execution_count": null,
      "outputs": [
        {
          "output_type": "execute_result",
          "data": {
            "text/plain": [
              "0.8125415855878476"
            ]
          },
          "metadata": {},
          "execution_count": 80
        }
      ]
    },
    {
      "cell_type": "code",
      "source": [
        "param_grid.best_score_#removing sample splits(15,16,17)(2,3)"
      ],
      "metadata": {
        "colab": {
          "base_uri": "https://localhost:8080/"
        },
        "id": "QGfcnE9jqI13",
        "outputId": "dd86c3cc-d963-46ce-a643-0ac293b99161"
      },
      "execution_count": null,
      "outputs": [
        {
          "output_type": "execute_result",
          "data": {
            "text/plain": [
              "0.7957351290684624"
            ]
          },
          "metadata": {},
          "execution_count": 78
        }
      ]
    },
    {
      "cell_type": "code",
      "source": [
        "param_grid.best_score_#after changing max depth (15,16,17),(2,3,6,7,8)"
      ],
      "metadata": {
        "colab": {
          "base_uri": "https://localhost:8080/"
        },
        "id": "4gm3_hf-pS0b",
        "outputId": "e84f0bd5-cb72-4eb7-a071-ac3e6c831017"
      },
      "execution_count": null,
      "outputs": [
        {
          "output_type": "execute_result",
          "data": {
            "text/plain": [
              "0.8170594837261503"
            ]
          },
          "metadata": {},
          "execution_count": 72
        }
      ]
    },
    {
      "cell_type": "code",
      "source": [
        "param_grid.best_score_#first attempt  (10,11,12)(2,3,6,7,8)"
      ],
      "metadata": {
        "colab": {
          "base_uri": "https://localhost:8080/"
        },
        "id": "IJGItZ70p4lO",
        "outputId": "03900c5e-cece-460c-9ba3-370145124f92"
      },
      "execution_count": null,
      "outputs": [
        {
          "output_type": "execute_result",
          "data": {
            "text/plain": [
              "0.8114478114478115"
            ]
          },
          "metadata": {},
          "execution_count": 75
        }
      ]
    },
    {
      "cell_type": "code",
      "source": [],
      "metadata": {
        "id": "E-HK2cCJyYSj"
      },
      "execution_count": null,
      "outputs": []
    }
  ]
}